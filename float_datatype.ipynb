{
 "cells": [
  {
   "cell_type": "markdown",
   "metadata": {},
   "source": [
    "# Q. Declare a float value and store it in a variable.\n",
    "     Check the type and print the id of the same."
   ]
  },
  {
   "cell_type": "code",
   "execution_count": 1,
   "metadata": {},
   "outputs": [
    {
     "name": "stdout",
     "output_type": "stream",
     "text": [
      "<class 'float'>\n",
      "1563961175536\n"
     ]
    }
   ],
   "source": [
    "a= 5.6 # declare a float value  and store it in a variable\n",
    "print(type(a)) #check the type of the number\n",
    "print(id(a)) #check the id of the number"
   ]
  },
  {
   "cell_type": "markdown",
   "metadata": {},
   "source": [
    "# Q. Arithmetic Operations on float\n",
    "    Take two different float values.\n",
    "    Store them in two different variables.\n",
    "    Do below operations on them:-\n",
    "        Find sum of both numbers\n",
    "        Find difference between them\n",
    "        Find the product of both numbers.\n",
    "        Find value after dividing first num with second number\n",
    "        Find the remainder after dividing first number with second number\n",
    "        Find the quotient after dividing first number with second number\n",
    "        Find the result of the first num to the power of the second number."
   ]
  },
  {
   "cell_type": "code",
   "execution_count": 3,
   "metadata": {},
   "outputs": [
    {
     "name": "stdout",
     "output_type": "stream",
     "text": [
      "13.91\n",
      "6.789999999999999\n",
      "36.846\n",
      "2.907303370786517\n",
      "3.2299999999999995\n",
      "2.0\n",
      "4103.813778338172\n"
     ]
    }
   ],
   "source": [
    "f1= 10.35 # store a float value in a variable 'f1'\n",
    "f2= 3.56 # store a float value in avariable 'f2'\n",
    "print(f1 + f2) # print the sum of two numbers\n",
    "print(f1 - f2) #print the difference between 'f1' and 'f2'\n",
    "print(f1 * f2) #print the product of 'f1' and 'f2'\n",
    "print(f1 / f2) #print the 'f1' is divided by 'f2'\n",
    "print(f1 % f2) # print the remainder when 'f1' is divided by 'f2'\n",
    "print(f1 // f2) # print the quotient after dividing 'f1' by 'f2'. this is a floor divition method\n",
    "print(f1 ** f2) # print the result of 'f1' to the power of 'f2'"
   ]
  },
  {
   "cell_type": "markdown",
   "metadata": {},
   "source": [
    "# Q. Comparison Operators on float\n",
    "    Take two different float values.\n",
    "    Store them in two different variables.\n",
    "    Do below operations on them:-\n",
    "        Compare these two numbers with below operator:-\n",
    "        Greater than, '>'\n",
    "        Smaller than, '<'\n",
    "        Greater than or equal to, '>='\n",
    "        Less than or equal to, '<='\n",
    "    Observe their output(return type should be boolean)"
   ]
  },
  {
   "cell_type": "code",
   "execution_count": 4,
   "metadata": {},
   "outputs": [
    {
     "name": "stdout",
     "output_type": "stream",
     "text": [
      "True\n",
      "False\n",
      "True\n",
      "False\n"
     ]
    }
   ],
   "source": [
    "f1= 3.4 # store a float value in a variable 'f1'\n",
    "f2= 1.7 # store a float value in avariable 'f2'\n",
    "print(f1 > f2) # it will return True if 'f1' is greater thatn 'f2' else False\n",
    "print(f1 < f2) # it will return True if 'f1' is smaller that 'f2' else False\n",
    "print(f1 >= f2) # it will return True if 'f1' is greater that or equal to 'f2' else False\n",
    "print(f1 <= f2) # it will return True if 'f1' is smaller that or equal to 'f2' else False"
   ]
  },
  {
   "cell_type": "markdown",
   "metadata": {},
   "source": [
    "# Q. Equality Operator\n",
    "    Take two different float values.\n",
    "    Store them in two different variables.\n",
    "    Equate them using equality operators (==, !=)\n",
    "    Observe the output(return type should be boolean)"
   ]
  },
  {
   "cell_type": "code",
   "execution_count": 5,
   "metadata": {},
   "outputs": [
    {
     "name": "stdout",
     "output_type": "stream",
     "text": [
      "True\n",
      "False\n"
     ]
    }
   ],
   "source": [
    "f1= 43.6 # store a float value in a variable 'f1'\n",
    "f2= 43.6 # store a float value in avariable 'f2'\n",
    "print(f1 == f2) # it will return True if both values are same else False\n",
    "print(f1 != f2) # it will return True if both values are different else False"
   ]
  },
  {
   "cell_type": "markdown",
   "metadata": {},
   "source": [
    "# Q. Logical operators\n",
    "    Observe the output of below code\n",
    "    Cross check the output manually\n",
    "       \n",
    "        print(10.20 and 20.30) #both are true and second value taken >Output is 20.3\n",
    "        \n",
    "        print(0.0 and 20.30) #First is false so first value taken->Output is 0.0\n",
    "        \n",
    "        print(20.30 and 0.0) #Goes to till second and second value is false so second is taken>Output is 0.0\n",
    "        \n",
    "        print(0.0 and 0.0) #First is false so first value is taken->Output is 0.0       \n",
    "       \n",
    "        print(10.20 or 20.30) #First is True so first value is taken>Output is 10.2\n",
    "        \n",
    "        print(0.0 or 20.30) #Goes to till second and second is true second value is taken->Output is 20.3\n",
    "        \n",
    "        print(20.30 or 0.0) #First is True so first value is taken->Output is 20.3\n",
    "        \n",
    "        print(0.0 or 0.0) #Goes to till second and second is also false and second value is taken>Output is 0.0\n",
    "        \n",
    "        print(not 10.20) #-Not of true is false->Output is False print(not 0.0) #Not of false is True>Output is True\n",
    "        "
   ]
  },
  {
   "cell_type": "code",
   "execution_count": 6,
   "metadata": {},
   "outputs": [
    {
     "name": "stdout",
     "output_type": "stream",
     "text": [
      "20.3\n",
      "0.0\n",
      "0.0\n",
      "0.0\n",
      "10.2\n",
      "20.3\n",
      "20.3\n",
      "0.0\n",
      "False\n"
     ]
    }
   ],
   "source": [
    "# if 1st number is False then it return 1st value else return 2nd value\n",
    "# boolean value of 0 or 0.0 or 0+0j is always Flase else True\n",
    "print(10.20 and 20.30) # 1st number True so it will return 2nd number\n",
    "print(0.0 and 20.30) # 1st number Flase so it will return 1st number\n",
    "print(20.30 and 0.0) # 1st number True so it will return 2nd number\n",
    "print(0.0 and 0.0) # 1st number Flase so it will return 1st number\n",
    "\n",
    "# for '0r' operator' if 1st number is True then it return 1st number else 2nd number\n",
    "print(10.20 or 20.30) # 1st number True so it will return 1st number\n",
    "print(0.0 or 20.30) # 1st number False so it will return 2nd number\n",
    "print(20.30 or 0.0) # 1st number True so it will return 1st number\n",
    "print(0.0 or 0.0) # 1st number False so it will return 2nd number\n",
    "\n",
    "print(not 10.20) # boolean value of 10.20 is True and 'not' operation will make opposite to the given  boolean value"
   ]
  },
  {
   "cell_type": "markdown",
   "metadata": {},
   "source": [
    "# Q. What is the output of expression inside print statement. \n",
    "    Cross check before running the program.\n",
    "        a = 10.20\n",
    "        b - 10.20\n",
    "        print(a is b) #True or False? True 10.20<256\n",
    "        print(a is not b) #True or False? False\n",
    "        Why the Id of float values are different when the same value is\n",
    "        assigned to two different variables\n",
    "        ex: a = 10.5 b=10.5. but id will be same if I assign the variable\n",
    "        having float i.e. a=c then both a and c's Id are same"
   ]
  },
  {
   "cell_type": "code",
   "execution_count": 8,
   "metadata": {},
   "outputs": [
    {
     "name": "stdout",
     "output_type": "stream",
     "text": [
      "False\n",
      "True\n",
      "1563962959184\n",
      "1563962958864\n",
      "1563961175536\n",
      "1563961175536\n"
     ]
    }
   ],
   "source": [
    "a= 10.20\n",
    "b= 10.20\n",
    "print(a is b) # it will return True if both are identical\n",
    "print(a is not b) # it will return True if both are not Identical\n",
    "print(id(a)) # print id of 'a' variable\n",
    "print(id(b)) # print id of 'b' variable\n",
    "'''any integer value from -5 to 256 use same id number if we use again that number again and again.\n",
    "it is called reusability concept. Any ineger other than that, flot, complex number will always use different id \n",
    "if we use that number gain and again''' \n",
    "a = b =10.5\n",
    "print(id(a))\n",
    "print(id(b))"
   ]
  },
  {
   "cell_type": "markdown",
   "metadata": {},
   "source": [
    "# Q. Bitwise operation is not applicable between instances of float.\n",
    "    Why the Id of float values are different when the same value is\n",
    "    assigned to two different variables\n",
    "    ex: a = 10.5 b=10.5. but id will be same if I assign the variable\n",
    "    having float i.e. a=c then both a and c's Id are same\n",
    "    Object reusability concept is not applicable on float values."
   ]
  },
  {
   "cell_type": "code",
   "execution_count": null,
   "metadata": {},
   "outputs": [],
   "source": [
    "'''any integer value from -5 to 256 use same id number if we use again that number again and again.\n",
    "it is called object reusability concept. Any ineger other than in that range, flot, complex number will always use different id \n",
    "if we use that number gain and again'''"
   ]
  },
  {
   "cell_type": "markdown",
   "metadata": {},
   "source": [
    "# Q. Membership operation\n",
    "    in, not in are two membership operators and it returns boolean value\n",
    "        print('2.7' in 'Python2.7.8') #True\n",
    "        print(10.20 in [10,10.20,10+20j,'Python']) #True\n",
    "        print(10.20 in (10,10.20,10+20j,'Python')) # True\n",
    "        print(20.30 in {1,20.30,30+40j}) # True\n",
    "        print(2.3 in {1:100, 2.3:200, 30+40j:300}) # True\n",
    "        print(10 in range(20)) # True"
   ]
  },
  {
   "cell_type": "code",
   "execution_count": 10,
   "metadata": {},
   "outputs": [
    {
     "name": "stdout",
     "output_type": "stream",
     "text": [
      "True\n",
      "True\n",
      "True\n",
      "True\n",
      "True\n",
      "True\n"
     ]
    }
   ],
   "source": [
    "#Returns True if a sequence with the specified value is present in the object\n",
    "print('2.7' in 'Python2.7.8') # string\n",
    "print(10.20 in [10,10.20,10+20j,'Python']) #list\n",
    "print(10.20 in (10,10.20,10+20j,'Python')) #tuple\n",
    "print(20.30 in {1,20.30,30+40j}) # set \n",
    "print(2.3 in {1:100, 2.3:200, 30+40j:300}) #dictionaries\n",
    "print(10 in range(20)) #range"
   ]
  },
  {
   "cell_type": "code",
   "execution_count": null,
   "metadata": {},
   "outputs": [],
   "source": []
  }
 ],
 "metadata": {
  "kernelspec": {
   "display_name": "Python 3",
   "language": "python",
   "name": "python3"
  },
  "language_info": {
   "codemirror_mode": {
    "name": "ipython",
    "version": 3
   },
   "file_extension": ".py",
   "mimetype": "text/x-python",
   "name": "python",
   "nbconvert_exporter": "python",
   "pygments_lexer": "ipython3",
   "version": "3.8.3"
  }
 },
 "nbformat": 4,
 "nbformat_minor": 4
}
