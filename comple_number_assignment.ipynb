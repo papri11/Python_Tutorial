{
 "cells": [
  {
   "cell_type": "markdown",
   "metadata": {},
   "source": [
    "# Q. Declare a complex number and store it in a variable.\n",
    "    Check the type and print the id of the same."
   ]
  },
  {
   "cell_type": "code",
   "execution_count": 1,
   "metadata": {},
   "outputs": [
    {
     "name": "stdout",
     "output_type": "stream",
     "text": [
      "<class 'complex'>\n",
      "1540248691632\n"
     ]
    }
   ],
   "source": [
    "a=10+2j # declaring and storing a complex number in a variable 'a'\n",
    "print(type(a)) # check the type of the number\n",
    "print(id(a)) # check the id of the number"
   ]
  },
  {
   "cell_type": "markdown",
   "metadata": {},
   "source": [
    "# Q. Arithmetic Operations on complex number\n",
    "    Take two different complex numbers.\n",
    "    Store them in two different variables.\n",
    "    Do below operations on them:-\n",
    "    Find sum of both numbers\n",
    "    Find difference between them\n",
    "    Find the product of both numbers.\n",
    "    Find value after dividing first num with second number\n",
    "    Find the result of the first num to the power of the second number."
   ]
  },
  {
   "cell_type": "code",
   "execution_count": 2,
   "metadata": {},
   "outputs": [
    {
     "name": "stdout",
     "output_type": "stream",
     "text": [
      "(30+45j)\n",
      "(10+35j)\n",
      "500j\n",
      "(3.2+2.4j)\n",
      "(28596878285406.023-122901689521391.56j)\n"
     ]
    }
   ],
   "source": [
    "a= 20+40j # take a number and store it in 'a'\n",
    "b= 10+5j # take a number and store it in 'b'\n",
    "print(a+b) # print sum of 'a' and 'b'\n",
    "print(a-b) #print difference between 'a'and 'b'\n",
    "print(a * b) #print product of 'a' and 'b'\n",
    "print(a / b) # print the value when 'a' is divided by 'b'\n",
    "print(pow(a, b)) #print the result of the 'a' to the power of 'b'"
   ]
  },
  {
   "cell_type": "markdown",
   "metadata": {},
   "source": [
    "# Q. Comparison Operation not applicable between instance of complex values.\n",
    "\n",
    "    Object reusability concept is not applicable on complex number"
   ]
  },
  {
   "cell_type": "code",
   "execution_count": 3,
   "metadata": {},
   "outputs": [
    {
     "ename": "TypeError",
     "evalue": "'>' not supported between instances of 'complex' and 'complex'",
     "output_type": "error",
     "traceback": [
      "\u001b[1;31m---------------------------------------------------------------------------\u001b[0m",
      "\u001b[1;31mTypeError\u001b[0m                                 Traceback (most recent call last)",
      "\u001b[1;32m<ipython-input-3-3b92afd349cc>\u001b[0m in \u001b[0;36m<module>\u001b[1;34m\u001b[0m\n\u001b[0;32m      1\u001b[0m \u001b[0mc1\u001b[0m\u001b[1;33m=\u001b[0m \u001b[1;36m23\u001b[0m\u001b[1;33m+\u001b[0m\u001b[1;36m35j\u001b[0m \u001b[1;31m# tale a number and store it in 'c1'\u001b[0m\u001b[1;33m\u001b[0m\u001b[1;33m\u001b[0m\u001b[0m\n\u001b[0;32m      2\u001b[0m \u001b[0mc2\u001b[0m\u001b[1;33m=\u001b[0m \u001b[1;36m12\u001b[0m\u001b[1;33m+\u001b[0m\u001b[1;36m52j\u001b[0m \u001b[1;31m# tale a number and store it in 'c2'\u001b[0m\u001b[1;33m\u001b[0m\u001b[1;33m\u001b[0m\u001b[0m\n\u001b[1;32m----> 3\u001b[1;33m \u001b[0mprint\u001b[0m\u001b[1;33m(\u001b[0m\u001b[0mc1\u001b[0m \u001b[1;33m>\u001b[0m \u001b[0mc2\u001b[0m\u001b[1;33m)\u001b[0m \u001b[1;31m#Greater than, '>' operator\u001b[0m\u001b[1;33m\u001b[0m\u001b[1;33m\u001b[0m\u001b[0m\n\u001b[0m\u001b[0;32m      4\u001b[0m \u001b[0mprint\u001b[0m\u001b[1;33m(\u001b[0m\u001b[0mc1\u001b[0m \u001b[1;33m>\u001b[0m \u001b[0mc2\u001b[0m\u001b[1;33m)\u001b[0m \u001b[1;31m#less than, '<' operator\u001b[0m\u001b[1;33m\u001b[0m\u001b[1;33m\u001b[0m\u001b[0m\n\u001b[0;32m      5\u001b[0m \u001b[0mprint\u001b[0m\u001b[1;33m(\u001b[0m\u001b[0mc1\u001b[0m \u001b[1;33m>=\u001b[0m \u001b[0mc2\u001b[0m\u001b[1;33m)\u001b[0m \u001b[1;31m# Greater than or equal to, '>=' operator\u001b[0m\u001b[1;33m\u001b[0m\u001b[1;33m\u001b[0m\u001b[0m\n",
      "\u001b[1;31mTypeError\u001b[0m: '>' not supported between instances of 'complex' and 'complex'"
     ]
    }
   ],
   "source": [
    "c1= 23+35j # take a number and store it in 'c1'\n",
    "c2= 12+52j # take a number and store it in 'c2'\n",
    "print(c1 > c2) #Greater than, '>' operator\n"
   ]
  },
  {
   "cell_type": "code",
   "execution_count": 4,
   "metadata": {},
   "outputs": [
    {
     "ename": "TypeError",
     "evalue": "'>' not supported between instances of 'complex' and 'complex'",
     "output_type": "error",
     "traceback": [
      "\u001b[1;31m---------------------------------------------------------------------------\u001b[0m",
      "\u001b[1;31mTypeError\u001b[0m                                 Traceback (most recent call last)",
      "\u001b[1;32m<ipython-input-4-f8e38d403ddd>\u001b[0m in \u001b[0;36m<module>\u001b[1;34m\u001b[0m\n\u001b[1;32m----> 1\u001b[1;33m \u001b[0mprint\u001b[0m\u001b[1;33m(\u001b[0m\u001b[0mc1\u001b[0m \u001b[1;33m>\u001b[0m \u001b[0mc2\u001b[0m\u001b[1;33m)\u001b[0m \u001b[1;31m#less than, '<' operator\u001b[0m\u001b[1;33m\u001b[0m\u001b[1;33m\u001b[0m\u001b[0m\n\u001b[0m\u001b[0;32m      2\u001b[0m \u001b[0mprint\u001b[0m\u001b[1;33m(\u001b[0m\u001b[0mc1\u001b[0m \u001b[1;33m>=\u001b[0m \u001b[0mc2\u001b[0m\u001b[1;33m)\u001b[0m \u001b[1;31m# Greater than or equal to, '>=' operator\u001b[0m\u001b[1;33m\u001b[0m\u001b[1;33m\u001b[0m\u001b[0m\n\u001b[0;32m      3\u001b[0m \u001b[0mprint\u001b[0m\u001b[1;33m(\u001b[0m\u001b[0mc1\u001b[0m \u001b[1;33m<=\u001b[0m \u001b[0mc2\u001b[0m\u001b[1;33m)\u001b[0m \u001b[1;31m# Less than or equal to, '<=' operator\u001b[0m\u001b[1;33m\u001b[0m\u001b[1;33m\u001b[0m\u001b[0m\n",
      "\u001b[1;31mTypeError\u001b[0m: '>' not supported between instances of 'complex' and 'complex'"
     ]
    }
   ],
   "source": [
    "print(c1 > c2) #less than, '<' operator\n"
   ]
  },
  {
   "cell_type": "code",
   "execution_count": 5,
   "metadata": {},
   "outputs": [
    {
     "ename": "TypeError",
     "evalue": "'>=' not supported between instances of 'complex' and 'complex'",
     "output_type": "error",
     "traceback": [
      "\u001b[1;31m---------------------------------------------------------------------------\u001b[0m",
      "\u001b[1;31mTypeError\u001b[0m                                 Traceback (most recent call last)",
      "\u001b[1;32m<ipython-input-5-5feeac929b98>\u001b[0m in \u001b[0;36m<module>\u001b[1;34m\u001b[0m\n\u001b[1;32m----> 1\u001b[1;33m \u001b[0mprint\u001b[0m\u001b[1;33m(\u001b[0m\u001b[0mc1\u001b[0m \u001b[1;33m>=\u001b[0m \u001b[0mc2\u001b[0m\u001b[1;33m)\u001b[0m \u001b[1;31m# Greater than or equal to, '>=' operator\u001b[0m\u001b[1;33m\u001b[0m\u001b[1;33m\u001b[0m\u001b[0m\n\u001b[0m\u001b[0;32m      2\u001b[0m \u001b[0mprint\u001b[0m\u001b[1;33m(\u001b[0m\u001b[0mc1\u001b[0m \u001b[1;33m<=\u001b[0m \u001b[0mc2\u001b[0m\u001b[1;33m)\u001b[0m \u001b[1;31m# Less than or equal to, '<=' operator\u001b[0m\u001b[1;33m\u001b[0m\u001b[1;33m\u001b[0m\u001b[0m\n",
      "\u001b[1;31mTypeError\u001b[0m: '>=' not supported between instances of 'complex' and 'complex'"
     ]
    }
   ],
   "source": [
    "print(c1 >= c2) # Greater than or equal to, '>=' operator\n"
   ]
  },
  {
   "cell_type": "code",
   "execution_count": 6,
   "metadata": {},
   "outputs": [
    {
     "ename": "TypeError",
     "evalue": "'<=' not supported between instances of 'complex' and 'complex'",
     "output_type": "error",
     "traceback": [
      "\u001b[1;31m---------------------------------------------------------------------------\u001b[0m",
      "\u001b[1;31mTypeError\u001b[0m                                 Traceback (most recent call last)",
      "\u001b[1;32m<ipython-input-6-7314792a3991>\u001b[0m in \u001b[0;36m<module>\u001b[1;34m\u001b[0m\n\u001b[1;32m----> 1\u001b[1;33m \u001b[0mprint\u001b[0m\u001b[1;33m(\u001b[0m\u001b[0mc1\u001b[0m \u001b[1;33m<=\u001b[0m \u001b[0mc2\u001b[0m\u001b[1;33m)\u001b[0m \u001b[1;31m# Less than or equal to, '<=' operator\u001b[0m\u001b[1;33m\u001b[0m\u001b[1;33m\u001b[0m\u001b[0m\n\u001b[0m",
      "\u001b[1;31mTypeError\u001b[0m: '<=' not supported between instances of 'complex' and 'complex'"
     ]
    }
   ],
   "source": [
    "print(c1 <= c2) # Less than or equal to, '<=' operator"
   ]
  },
  {
   "cell_type": "markdown",
   "metadata": {},
   "source": [
    "# Q. Equality Operator\n",
    "    Take two different complex numbers.\n",
    "    Store them in two different variables.\n",
    "    Equate them using equality operators (==, !=)\n",
    "    Observe the output(return type should be boolean)"
   ]
  },
  {
   "cell_type": "code",
   "execution_count": 7,
   "metadata": {},
   "outputs": [
    {
     "name": "stdout",
     "output_type": "stream",
     "text": [
      "False\n",
      "True\n"
     ]
    }
   ],
   "source": [
    "c1= 20+10j # take a number and store it in 'c1'\n",
    "c2= 32+23j # take a number and store it in 'c2'\n",
    "print(c1==c2)# equality operation gives True value if both the number are equal else False\n",
    "print(c1!=c2) # not equality operator gives True value if both the number are not equal else False"
   ]
  },
  {
   "cell_type": "markdown",
   "metadata": {},
   "source": [
    "# Q. Logical operators\n",
    "    Observe the output of below code\n",
    "    Cross check the output manually\n",
    "        print(10+20j and 20+30j) #20+30j\n",
    "        #----------------------------------------->Output is 20+30j\n",
    "        print(0+0j and 20+30j) #0+0j\n",
    "        #----------------------------------------->Output is 0j\n",
    "        print(20+30j and 0+0j) #0+0j\n",
    "        #----------------------------------------->Output is 0j\n",
    "        print(0+0j and 0+0j) #0+0j\n",
    "        #----------------------------------------->Output is 0j\n",
    "        print(10+20j or 20+30j) #10+20j\n",
    "        #----------------------------------------->Output is 10+20j\n",
    "\n",
    "        print(0+0j or 20+30j) #20+30j\n",
    "        #----------------------------------------->Output is 20+30j\n",
    "        print(20+30j or 0+0j) #20+30j\n",
    "        #----------------------------------------->Output is 20+30j\n",
    "        print(0+0j or 0+0j) #0+0j\n",
    "        #----------------------------------------->Output is 0j\n",
    "        print(not 10+20j) #False\n",
    "        #----------------------------------------->Output is False\n",
    "        print(not 0+0j) #True\n",
    "        #----------------------------------------->Output is True"
   ]
  },
  {
   "cell_type": "code",
   "execution_count": 8,
   "metadata": {},
   "outputs": [
    {
     "name": "stdout",
     "output_type": "stream",
     "text": [
      "(20+30j)\n",
      "0j\n",
      "0j\n",
      "(10+20j)\n",
      "(20+30j)\n",
      "(20+30j)\n",
      "0j\n",
      "False\n",
      "True\n"
     ]
    }
   ],
   "source": [
    "# if 1st number is False then it return 1st value else return 2nd value\n",
    "# boolean value of 0 or 0.0 or 0+0j is always Flase else True\n",
    "print(10+20j and 20+30j) #1st number True so it will return 2nd number\n",
    "print(0+0j and 20+30j) #1st number False so it will return 1st number \n",
    "print(0+0j and 0+0j) # 1st number False so it will return 1st number \n",
    "print(10+20j or 20+30j) #1st number True so it will return 2nd number\n",
    "print(0+0j or 20+30j)# 1st number False so it will return 1st number\n",
    "print(20+30j or 0+0j) #1st number True so it will return 2nd number\n",
    "print(0+0j or 0+0j) # 1st number False so it will return 1st number\n",
    "print(not 10+20j)  # boolean value of 10+20j is True and 'not' operation will make opposite to the given  boolean value\n",
    "print(not 0+0j) # boolean value of 0+0j is False and 'not' operation will make opposite to the given  boolean value"
   ]
  },
  {
   "cell_type": "markdown",
   "metadata": {},
   "source": [
    "# Q. What is the output of the expression inside the print statement.\n",
    "    Cross check before running the program.\n",
    "        a = 10+20j\n",
    "        b = 10+20j\n",
    "        print(a is b) #False #True or False?\n",
    "        print(a is not b) #True #True or False?"
   ]
  },
  {
   "cell_type": "code",
   "execution_count": 11,
   "metadata": {},
   "outputs": [
    {
     "name": "stdout",
     "output_type": "stream",
     "text": [
      "1540248692816\n",
      "1540248692944\n",
      "False\n",
      "True\n"
     ]
    }
   ],
   "source": [
    "a= 10+20j\n",
    "b= 10+20j\n",
    "'''They are equal but not identical.\n",
    "It is because the interpreter locates them separately in memory although they are equal'''\n",
    "print(id(a)) # check the id of 'a'\n",
    "print(id(b)) # check the id of 'b'\n",
    "print(a is b) # return true if both are identical else False\n",
    "print(a is not b) #return true if both the values are not identical else False"
   ]
  },
  {
   "cell_type": "markdown",
   "metadata": {},
   "source": [
    "# Q. Membership operation\n",
    "    in, not in are two membership operators and it returns boolean value\n",
    "        print('2.7' in 'Python2.7.8') #True\n",
    "        print(10+20j in [10,10.20,10+20j,'Python']) #True\n",
    "        print(10+20j in (10,10.20,10+20j,'Python')) #True\n",
    "        print(30+40j in {1,20.30,30+40j}) #True\n",
    "        print(30+40j in {1:100, 2.3:200, 30+40j:300}) #True\n",
    "        print(10 in range(20)) #True"
   ]
  },
  {
   "cell_type": "code",
   "execution_count": 12,
   "metadata": {},
   "outputs": [
    {
     "name": "stdout",
     "output_type": "stream",
     "text": [
      "True\n",
      "True\n",
      "True\n",
      "True\n",
      "True\n",
      "True\n"
     ]
    }
   ],
   "source": [
    "#Returns True if a sequence with the specified value is present in the object\n",
    "print('2.7' in 'python2.7.8') # string\n",
    "print(10+20j in [10,10.20,10+20j,'Python']) #list\n",
    "print(10+20j in (10,10.20,10+20j,'Python')) #tuple\n",
    "print(30+40j in {1,20.30,30+40j}) # set\n",
    "print(30+40j in {1:100, 2.3:200, 30+40j:300}) #dictionaries\n",
    "print(10 in range(20)) #range"
   ]
  },
  {
   "cell_type": "code",
   "execution_count": null,
   "metadata": {},
   "outputs": [],
   "source": []
  }
 ],
 "metadata": {
  "kernelspec": {
   "display_name": "Python 3",
   "language": "python",
   "name": "python3"
  },
  "language_info": {
   "codemirror_mode": {
    "name": "ipython",
    "version": 3
   },
   "file_extension": ".py",
   "mimetype": "text/x-python",
   "name": "python",
   "nbconvert_exporter": "python",
   "pygments_lexer": "ipython3",
   "version": "3.8.3"
  }
 },
 "nbformat": 4,
 "nbformat_minor": 4
}
