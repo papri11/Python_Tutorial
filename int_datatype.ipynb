{
 "cells": [
  {
   "cell_type": "markdown",
   "metadata": {},
   "source": [
    "# Q. Declare an int value and store it in a variable.\n",
    "    Check the type and print the id of the same."
   ]
  },
  {
   "cell_type": "code",
   "execution_count": 2,
   "metadata": {},
   "outputs": [
    {
     "name": "stdout",
     "output_type": "stream",
     "text": [
      "<class 'int'>\n",
      "140729672087680\n"
     ]
    }
   ],
   "source": [
    "a= 12 # declare an int value  and store it in a variable 'a'\n",
    "\n",
    "print(type(a)) # check the type of the variable\n",
    "print(id(a)) #check the id of the variable"
   ]
  },
  {
   "cell_type": "markdown",
   "metadata": {},
   "source": [
    "# Q. Take one int value between 0 - 256.\n",
    "    Assign it to two different variables.\n",
    "    Check the id of both the variables. It should come the same. Check why?"
   ]
  },
  {
   "cell_type": "code",
   "execution_count": 4,
   "metadata": {},
   "outputs": [
    {
     "name": "stdout",
     "output_type": "stream",
     "text": [
      "140729672087680\n",
      "140729672087680\n"
     ]
    },
    {
     "data": {
      "text/plain": [
       "'any integer value from -5 to 256 use same id number if we use again that number again and again.\\nit is called object reusability concept. Any ineger other than that, flot, complex number will always use different id \\nif we use that number gain and again'"
      ]
     },
     "execution_count": 4,
     "metadata": {},
     "output_type": "execute_result"
    }
   ],
   "source": [
    "a= 12 # assign the value in a variable 'a'\n",
    "b= 12 # assign the value in a variable 'b'\n",
    "\n",
    "print(id(a)) # check the id of variable 'a' \n",
    "print(id(b)) # check the id of variable 'b'\n",
    "'''any integer value from -5 to 256 use same id number if we use again that number again and again.\n",
    "it is called object reusability concept. Any ineger other than in that range, flot, complex number will always use different id \n",
    "if we use that number gain and again'''"
   ]
  },
  {
   "cell_type": "markdown",
   "metadata": {},
   "source": [
    "# Q. Take one int value either less than -5 or greater than 256.\n",
    "    Assign it to two different variables.\n",
    "    Check the id of both the variables. It should come different.Check why?"
   ]
  },
  {
   "cell_type": "code",
   "execution_count": 5,
   "metadata": {},
   "outputs": [
    {
     "name": "stdout",
     "output_type": "stream",
     "text": [
      "1618705901296\n",
      "1618705900656\n"
     ]
    },
    {
     "data": {
      "text/plain": [
       "'any integer value from -5 to 256 use same id number if we use again that number again and again.\\nit is called object reusability concept. Any ineger other than in that range, flot, complex number will always use different id \\nif we use that number gain and again'"
      ]
     },
     "execution_count": 5,
     "metadata": {},
     "output_type": "execute_result"
    }
   ],
   "source": [
    "a= -10 # assign the value in a variable 'a'\n",
    "b= -10 # assign the value in a variable 'b'\n",
    "\n",
    "print(id(a)) # check the id of variable 'a'\n",
    "print(id(b)) # check the id of variable 'b'\n",
    "'''any integer value from -5 to 256 use same id number if we use again that number again and again.\n",
    "it is called object reusability concept. Any ineger other than in that range, flot, complex number will always use different id \n",
    "if we use that number gain and again'''"
   ]
  },
  {
   "cell_type": "markdown",
   "metadata": {},
   "source": [
    "# Q. Arithmetic Operations on integers\n",
    "    Take two different integer values.\n",
    "    Store them in two different variables.\n",
    "    Do below operations on them:-\n",
    "        Find sum of both numbers\n",
    "        Find difference between them\n",
    "        Find the product of both numbers.\n",
    "        Find value after dividing first num with second number\n",
    "        Find the remainder after dividing first number with second number\n",
    "        Find the quotient after dividing first number with second number\n",
    "        Find the result of the first num to the power of the second number."
   ]
  },
  {
   "cell_type": "code",
   "execution_count": 6,
   "metadata": {},
   "outputs": [
    {
     "name": "stdout",
     "output_type": "stream",
     "text": [
      "81\n",
      "-31\n",
      "1400\n",
      "0.44642857142857145\n",
      "25\n",
      "0\n",
      "1925929944387235853055977942584927318538101648215388195239938795566558837890625\n"
     ]
    }
   ],
   "source": [
    "a= 25 # assign the value in a variable 'a\n",
    "b= 56 # assign the value in a variable 'b'\n",
    "\n",
    "print(a + b) # print the sum of 'a' and 'b'\n",
    "print(a - b) # print the difference between 'a' and 'b'\n",
    "print(a * b) # print the product of 'a' and 'b'\n",
    "print(a / b) # print the value after diving 'a' with 'b'\n",
    "print(a % b) # print the remainder after diving 'a' with 'b'\n",
    "print(a // b) # print the quotient after diving  'a' with 'b'\n",
    "print(a ** b) # print the result of the 'a' to the power of the 'b'"
   ]
  },
  {
   "cell_type": "markdown",
   "metadata": {},
   "source": [
    "# Q. Comparison Operators on integers\n",
    "    Take two different integer values.\n",
    "    Store them in two different variables.\n",
    "    Do below operations on them:-\n",
    "        Compare se two numbers with below operator:-\n",
    "        Greater than, '>'\n",
    "        Smaller than, '<'\n",
    "        Greater than or equal to, '>='\n",
    "        Less than or equal to, '<='\n",
    "    Observe their output(return type should be boolean)"
   ]
  },
  {
   "cell_type": "code",
   "execution_count": 7,
   "metadata": {},
   "outputs": [
    {
     "name": "stdout",
     "output_type": "stream",
     "text": [
      "True\n",
      "False\n",
      "True\n",
      "False\n"
     ]
    }
   ],
   "source": [
    "a= 100 # assign the value in a variable 'a\n",
    "b= 54 # assign the value in a variable 'b'\n",
    "\n",
    "print(a > b) # it returns True if 'a' is greater than 'b' else False\n",
    "print(a < b) # it returns True if 'a' is smaller than 'b' else False\n",
    "print(a >= b) # it returns True if 'a' is greater than or equal to 'b' else False\n",
    "print(a <= b) # it returns True if 'a' is smaller than or equal to 'b' else False"
   ]
  },
  {
   "cell_type": "markdown",
   "metadata": {},
   "source": [
    "# Q. Equality Operator\n",
    "    Take two different integer values.\n",
    "    Store them in two different variables.\n",
    "        Equate them using equality operators (==, !=)\n",
    "        Observe the output(return type should be boolean)"
   ]
  },
  {
   "cell_type": "code",
   "execution_count": 8,
   "metadata": {},
   "outputs": [
    {
     "name": "stdout",
     "output_type": "stream",
     "text": [
      "True\n",
      "False\n"
     ]
    }
   ],
   "source": [
    "a= 150 # assign the value in a variable 'a\n",
    "b= 150 # assign the value in a variable 'b'\n",
    "\n",
    "print(a == b) # it returns True if 'a' is equal to 'b' else False\n",
    "print(a != b) # it returns True if 'a' is not equal to 'b' else False"
   ]
  },
  {
   "cell_type": "markdown",
   "metadata": {},
   "source": [
    "# Q. Logical operators\n",
    "    Observe the output of below code\n",
    "\n",
    "    Cross check the output manually\n",
    "        print(10 and 20)\n",
    "        #----------------------------------------->Output is 20\n",
    "        print(0 and 20)\n",
    "        #----------------------------------------->Output is 0\n",
    "        print(20 and 0)\n",
    "        #----------------------------------------->Output is 0\n",
    "        print(0 and 0)\n",
    "        #----------------------------------------->Output is 0\n",
    "        print(10 or 20)\n",
    "        #----------------------------------------->Output is 10\n",
    "        print(0 or 20)\n",
    "        #----------------------------------------->Output is 20\n",
    "        print(20 or 0)\n",
    "        #----------------------------------------->Output is 20\n",
    "        print(0 or 0)\n",
    "        #----------------------------------------->Output is 0\n",
    "        print(not 10)\n",
    "        #----------------------------------------->Output is False\n",
    "        print(not 0)\n",
    "        #----------------------------------------->Output is True"
   ]
  },
  {
   "cell_type": "code",
   "execution_count": 9,
   "metadata": {},
   "outputs": [
    {
     "name": "stdout",
     "output_type": "stream",
     "text": [
      "20\n",
      "0\n",
      "0\n",
      "0\n",
      "10\n",
      "20\n",
      "20\n",
      "0\n",
      "False\n",
      "True\n"
     ]
    }
   ],
   "source": [
    "# if 1st number is False then it return 1st value else return 2nd value\n",
    "# boolean value of 0 or 0.0 or 0+0j is always Flase else True\n",
    "print(10 and 20) # 1st number True so it will return 2nd number\n",
    "print(0 and 20)  # 1st number Flase so it will return 1st number \n",
    "print(20 and 0) # 1st number True so it will return 2nd number   \n",
    "print(0 and 0) # 1st number Flase so it will return 1st number\n",
    "\n",
    "# for '0r' operator' if 1st number is True then it return 1st number else 2nd number\n",
    "print(10 or 20) # 1st number True so it will return 1st number  \n",
    "print(0 or 20)  # 1st number False so it will return 2nd number\n",
    "print(20 or 0)  # 1st number True so it will return 1st number \n",
    "print(0 or 0) # 1st number False so it will return 2nd number\n",
    "\n",
    "print(not 10) # boolean value of 10 is True and 'not' operation will make opposite to the given  boolean value \n",
    "print(not 0) # boolean value of 0 is False and 'not' operation will make opposite to the given  boolean value"
   ]
  },
  {
   "cell_type": "markdown",
   "metadata": {},
   "source": [
    "# Q. Bitwise Operators\n",
    "    Do below operations on the values provided below:-\n",
    "        Bitwise and(&) -----------------------------------------> 10, 20\n",
    "        -------> Output is 0\n",
    "        Bitwise or(|) -----------------------------------------> 10, 20\n",
    "        -------> Output is 30\n",
    "        Bitwise(^) -----------------------------------------> 10, 20\n",
    "        -------> Output is 30\n",
    "        Bitwise negation(~) ------------------------------------> 10\n",
    "        -------> Output is -11\n",
    "        Bitwise left shift ------------------------------------> 10,2\n",
    "        -------> Output is 40\n",
    "        Bitwise right shift ------------------------------------> 10,2\n",
    "        -------> Output is 2\n",
    "    Cross check the output manually"
   ]
  },
  {
   "cell_type": "code",
   "execution_count": 11,
   "metadata": {},
   "outputs": [
    {
     "name": "stdout",
     "output_type": "stream",
     "text": [
      "0\n",
      "30\n",
      "30\n",
      "-11\n",
      "40\n",
      "2\n"
     ]
    }
   ],
   "source": [
    "print(10 & 20) # bitwise and operator\n",
    "print(10 | 20) #bitwise or operator\n",
    "print(10 ^ 20) # bitwise XOR operator\n",
    "print(~10) # bitwise not operation\n",
    "print(10<<2) # bitwise left shift\n",
    "print(10>>2) # bitwise right shift"
   ]
  },
  {
   "cell_type": "markdown",
   "metadata": {},
   "source": [
    "# Q. What is the output of expression inside print statement. Cross check\n",
    "    before running the program.\n",
    "\n",
    "        a = 10\n",
    "        b = 10\n",
    "        print(a is b) #True or False?\n",
    "        print(a is not b) #True or False?\n",
    "        a = 1000\n",
    "        b = 1000\n",
    "        print(a is b) #True or False?\n",
    "        print(a is not b) #True or False?"
   ]
  },
  {
   "cell_type": "code",
   "execution_count": 12,
   "metadata": {},
   "outputs": [
    {
     "name": "stdout",
     "output_type": "stream",
     "text": [
      "True\n",
      "False\n",
      "False\n",
      "True\n"
     ]
    }
   ],
   "source": [
    "'''any integer value from -5 to 256 use same id number if we use again that number again and again.\n",
    "it is called object reusability concept. Any ineger other than in that range, flot, complex number will always use different id \n",
    "if we use that number gain and again'''\n",
    "\n",
    "a= 10\n",
    "b= 10\n",
    "print(a is b) # it returns True if two variables are identical else False. here the value is in the range of -5 to 256, so they are identical\n",
    "print(a is not b) # it returns True if two variables are not identical else False. here the value is in the range of -5 to 256, so they are identical\n",
    "\n",
    "a= 1000\n",
    "b= 1000\n",
    "print(a is b) # it returns True if two variables are identical else False. here the value is not in the range of -5 to 256, so they are not identical\n",
    "print(a is not b) # it returns True if two variables are not identical else False. here the value is not in the range of -5 to 256, so they are not identical"
   ]
  },
  {
   "cell_type": "markdown",
   "metadata": {},
   "source": [
    "# Q. What is the output of expression inside print statement. Cross check\n",
    "    before running the program.\n",
    "    print(10+(10*32)//2**5&20+(~(-10))<<2)"
   ]
  },
  {
   "cell_type": "code",
   "execution_count": 28,
   "metadata": {},
   "outputs": [
    {
     "name": "stdout",
     "output_type": "stream",
     "text": [
      "320\n",
      "9\n",
      "32\n",
      "10\n",
      "20\n",
      "29\n",
      "116\n",
      "20\n",
      "20\n"
     ]
    }
   ],
   "source": [
    "# precendence will be given to 1.(), 2.**,3.~, 4.//,5.+,6.<<,7.&\n",
    "print((10*32)) # Parentheses (grouping)\n",
    "print((~(-10)))# Parentheses (grouping) and also bitwise not (~)\n",
    "print(2**5) # Exponentiation\n",
    "print( 320//32)# Division\n",
    "print(10+10) # Addition\n",
    "print(20+9) # Addition\n",
    "print(29<<2) # Bitwise left shifts\n",
    "print(20 & 29) # Bitwise AND\n",
    "print(10+(10*32)//2**5&20+(~(-10))<<2) # total formula"
   ]
  },
  {
   "cell_type": "markdown",
   "metadata": {},
   "source": [
    "# Q. Membership operation\n",
    "    in, not in are two membership operators and it returns boolean value\n",
    "        print('2' in 'Python2.7.8')\n",
    "        print(10 in [10,10.20,10+20j,'Python'])\n",
    "        print(10 in (10,10.20,10+20j,'Python'))\n",
    "        print(2 in {1,2,3})\n",
    "        print(3 in {1:100, 2:200, 3:300})\n",
    "        print(10 in range(20))"
   ]
  },
  {
   "cell_type": "code",
   "execution_count": null,
   "metadata": {},
   "outputs": [],
   "source": [
    "#Returns True if a sequence with the specified value is present in the object\n",
    "print('2' in 'Python2.7.8')\n",
    "print(10 in [10,10.20,10+20j,'Python'])\n",
    "print(10 in (10,10.20,10+20j,'Python'))\n",
    "print(2 in {1,2,3})\n",
    "print(3 in {1:100, 2:200, 3:300})\n",
    "print(10 in range(20))"
   ]
  },
  {
   "cell_type": "markdown",
   "metadata": {},
   "source": [
    "# Q. An integer can be represented in binary, octal or hexadecimal form.\n",
    "    Declare one binary, one octal and one hexadecimal value and store them in three different variables.\n",
    "    Convert 9876 to its binary, octal and hexadecimal equivalent and print their corresponding value.\n",
    "    "
   ]
  },
  {
   "cell_type": "code",
   "execution_count": 29,
   "metadata": {},
   "outputs": [
    {
     "name": "stdout",
     "output_type": "stream",
     "text": [
      "0b1010\n",
      "0o24\n",
      "0x1e\n",
      "0b10011010010100\n",
      "0o23224\n",
      "0x2694\n"
     ]
    }
   ],
   "source": [
    "a= bin(10) # declare a binary value and store it in variable 'a'\n",
    "print(a)\n",
    "b= oct(20) # declare a octal value and store it in variable 'b'\n",
    "print(b)\n",
    "c= hex(30) # declare a hexadecimal value and store it in variable 'c'\n",
    "print(c)\n",
    "print(bin(9876)) #convert the value to its binary form\n",
    "print(oct(9876)) #convert the value to its octal form\n",
    "print(hex(9876)) #convert the value to its hexadecimal form"
   ]
  },
  {
   "cell_type": "markdown",
   "metadata": {},
   "source": [
    "# Q. What will be the output of following:-\n",
    "    a = 0b1010000\n",
    "    print(a)\n",
    "    b = 0o7436\n",
    "    print(b)\n",
    "    c = 0xfade\n",
    "    print(c)\n",
    "    print(bin(80))\n",
    "    print(oct(3870))\n",
    "    print(hex(64222))\n",
    "    print(bin(0b1010000))\n",
    "    print(bin(0xfade))\n",
    "    print(oct(0xfade))\n",
    "    print(oct(0o7436))\n",
    "    print(hex(0b1010000))\n",
    "    print(hex(0xfade))"
   ]
  },
  {
   "cell_type": "code",
   "execution_count": 31,
   "metadata": {},
   "outputs": [
    {
     "name": "stdout",
     "output_type": "stream",
     "text": [
      "80\n",
      "3870\n",
      "64222\n",
      "0b1010000\n",
      "0o7436\n",
      "0xfade\n",
      "0b1010000\n",
      "0b1111101011011110\n",
      "0o175336\n",
      "0o7436\n",
      "0x50\n",
      "0xfade\n"
     ]
    }
   ],
   "source": [
    "a = 0b1010000 # assign a binary number in variable 'a'\n",
    "print(a)\n",
    "b = 0o7436 # assign a octal number in variable 'b'\n",
    "print(b)\n",
    "c = 0xfade #assign a hexadecimal number in variable 'c'\n",
    "print(c)\n",
    "print(bin(80)) #convert the integer number into its binary form\n",
    "print(oct(3870)) #convert the integer  number into its octal form\n",
    "print(hex(64222)) #convert the integer  number into its hexadecimal form\n",
    "print(bin(0b1010000)) #convert the binary number into its binary form\n",
    "print(bin(0xfade)) #convert the hexadecimal number into its binary form\n",
    "print(oct(0xfade)) #convert the hexadecimal number into its octal form\n",
    "print(oct(0o7436)) #convert the octal number into its octal form\n",
    "print(hex(0b1010000)) #convert the binary number into its hexadecimal form\n",
    "print(hex(0xfade)) #convert the hexadecimal number into its hexadecimal form"
   ]
  },
  {
   "cell_type": "code",
   "execution_count": null,
   "metadata": {},
   "outputs": [],
   "source": []
  }
 ],
 "metadata": {
  "kernelspec": {
   "display_name": "Python 3",
   "language": "python",
   "name": "python3"
  },
  "language_info": {
   "codemirror_mode": {
    "name": "ipython",
    "version": 3
   },
   "file_extension": ".py",
   "mimetype": "text/x-python",
   "name": "python",
   "nbconvert_exporter": "python",
   "pygments_lexer": "ipython3",
   "version": "3.8.3"
  }
 },
 "nbformat": 4,
 "nbformat_minor": 4
}
