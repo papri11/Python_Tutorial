{
 "cells": [
  {
   "cell_type": "markdown",
   "metadata": {},
   "source": [
    "# Q. Declare a boolean value and store it in a variable.\n",
    "      -check the type and print the id of the same."
   ]
  },
  {
   "cell_type": "code",
   "execution_count": 2,
   "metadata": {},
   "outputs": [
    {
     "name": "stdout",
     "output_type": "stream",
     "text": [
      "<class 'bool'>\n",
      "140735318452048\n"
     ]
    }
   ],
   "source": [
    "a = True\n",
    "print(type(a))\n",
    "print(id(a))"
   ]
  },
  {
   "cell_type": "markdown",
   "metadata": {},
   "source": [
    "# Q. Take one boolean value between 0 - 256.\n",
    "    -Assign it to two different variables.\n",
    "    -Check the id of both the variables. It should come the same. Check why?"
   ]
  },
  {
   "cell_type": "code",
   "execution_count": 6,
   "metadata": {},
   "outputs": [
    {
     "name": "stdout",
     "output_type": "stream",
     "text": [
      "140735318452048\n",
      "140735318452048\n"
     ]
    },
    {
     "data": {
      "text/plain": [
       "'it should come same because of python reusablity where any number from 0-256 has only one memory location \\nand we can create refernce only by assigning the value in different varibles.'"
      ]
     },
     "execution_count": 6,
     "metadata": {},
     "output_type": "execute_result"
    }
   ],
   "source": [
    "bool_value1= bool(48)\n",
    "bool_value2= bool(48)\n",
    "print(id(bool_value1))\n",
    "print(id(bool_value2))\n",
    "'''it should come same because of python reusablity where any number from 0-256 has only one memory location \n",
    "and we can create refernce only by assigning the value in different varibles.'''"
   ]
  },
  {
   "cell_type": "markdown",
   "metadata": {},
   "source": [
    "# Q. Arithmetic Operations on boolean data\n",
    "    -Take two different boolean values.\n",
    "    -Store them in two different variables.\n",
    "    -Do below operations on them:-\n",
    "    -Find sum of both values\n",
    "    -Find difference between them\n",
    "    -Find the product of both.\n",
    "    -Find value after dividing first value with second value\n",
    "    -Find the remainder after dividing first value with second value\n",
    "    -Find the quotient after dividing first value with second value\n",
    "    -Find the result of first value to the power of second value."
   ]
  },
  {
   "cell_type": "code",
   "execution_count": 5,
   "metadata": {},
   "outputs": [
    {
     "name": "stdout",
     "output_type": "stream",
     "text": [
      "2\n",
      "0\n",
      "1\n",
      "1.0\n",
      "0\n",
      "1\n",
      "1\n"
     ]
    }
   ],
   "source": [
    "bool1= bool(45)\n",
    "bool2= bool(4)\n",
    "print(bool1 + bool2) # True= 1 and False = 0, here both are True so True+True=2\n",
    "print(bool1 - bool2) # True - True =0\n",
    "print(bool1 * bool2) # True * True =1\n",
    "print(bool1 / bool2) # True / True =1.0(because it gives float value)\n",
    "print(bool1 % bool2) # True % True =0 (reminder is 0)\n",
    "print(bool1 // bool2) #True // True= 1 (floor division/ true division)\n",
    "print(pow(bool1, bool2)) # True power of True , pow is a function "
   ]
  },
  {
   "cell_type": "markdown",
   "metadata": {},
   "source": [
    "# Q. Comparison Operators on boolean values\n",
    "    -Take two different boolean values.\n",
    "    -Store them in two different variables.\n",
    "    -Do below operations on them:-\n",
    "    -Compare these two values with below operator:-\n",
    "    -Greater than, '>'\n",
    "    -less than, '<'\n",
    "    -Greater than or equal to, '>='\n",
    "    -Less than or equal to, '<='\n",
    "    -Observe their output(return type should be boolean)"
   ]
  },
  {
   "cell_type": "code",
   "execution_count": 9,
   "metadata": {},
   "outputs": [
    {
     "name": "stdout",
     "output_type": "stream",
     "text": [
      "False\n",
      "False\n",
      "True\n",
      "True\n",
      "False\n",
      "True\n",
      "False\n",
      "True\n",
      "False\n",
      "True\n",
      "False\n",
      "True\n"
     ]
    }
   ],
   "source": [
    "bool_v1=bool(14)\n",
    "bool_v2=bool(34)\n",
    "print(bool_v1 > bool_v2) # both values are True that's why it gives False value\n",
    "print(bool_v1 < bool_v2) # both values are True that's why it gives False value\n",
    "print(bool_v1 >= bool_v2) # both values are True that's why it gives True value\n",
    "print(bool_v1 <= bool_v2) # both values are True that's why it gives True value\n",
    "bool_v3=bool(0)\n",
    "bool_v4=bool(34)\n",
    "print(bool_v3 > bool_v4) # bool_v3 is Flase and bool_v4 is True that's why it gives False value\n",
    "print(bool_v3 < bool_v4) # bool_v3 is Flase and bool_v4 is Truethat's why it gives True value\n",
    "print(bool_v3 >= bool_v4) # bool_v3 is Flase and bool_v4 is True that's why it gives False value\n",
    "print(bool_v3 <= bool_v4) # bool_v3 is Flase and bool_v4 is True that's why it gives True value\n",
    "bool_v5=14\n",
    "bool_v6=34\n",
    "print(bool_v5 > bool_v6) # 14 is not greater than 34  that's why it gives False value\n",
    "print(bool_v5 < bool_v6) # 34 is greater than 14  that's why it gives True value\n",
    "print(bool_v5 >= bool_v6) #14 is not greater or equal to 34 that's why it gives False value\n",
    "print(bool_v5 <= bool_v6) # 14 is smaller or equal to 34 that's why it gives True value"
   ]
  },
  {
   "cell_type": "markdown",
   "metadata": {},
   "source": [
    "# Q. Equality Operator\n",
    "    -Take two different boolean values.\n",
    "    -Store them in two different variables.\n",
    "    -Equate them using equality operators (==, !=)\n",
    "    -Observe the output(return type should be boolean)"
   ]
  },
  {
   "cell_type": "code",
   "execution_count": 12,
   "metadata": {},
   "outputs": [
    {
     "name": "stdout",
     "output_type": "stream",
     "text": [
      "True\n",
      "False\n",
      "False\n",
      "True\n"
     ]
    }
   ],
   "source": [
    "bool1= bool(2)\n",
    "bool2= bool(56)\n",
    "print(bool1 == bool2) # bool1 and bool2 both are True that's why it gives True value\n",
    "print(bool1 != bool2) # bool1 and bool2 both are True that's why it gives False value\n",
    "bool3= bool(55)\n",
    "bool4= bool(0)\n",
    "print(bool3 == bool4) # bool3 is True and bool4 is False that's why it gives False value\n",
    "print(bool3 != bool4) # bool3 is True and bool4 is False that's why it gives True value"
   ]
  },
  {
   "cell_type": "markdown",
   "metadata": {},
   "source": [
    "# Q. Logical operators\n",
    "    -Observe the output of below code\n",
    "    -Cross check the output manually\n",
    "        -print(True and True)\n",
    "        -#----------------------------------------->Output is True\n",
    "        -print(False and True)\n",
    "        -#----------------------------------------->Output is False\n",
    "        -print(True and False)\n",
    "        -#----------------------------------------->Output is False\n",
    "        -print(False and False)\n",
    "        -#----------------------------------------->Output is False\n",
    "        -print(True or True)\n",
    "        -#----------------------------------------->Output is True\n",
    "        -print(False or True)\n",
    "        -#----------------------------------------->Output is True\n",
    "        -print(True or False)\n",
    "        -#----------------------------------------->Output is True\n",
    "        -print(False or False)\n",
    "        -#----------------------------------------->Output is False\n",
    "        -print(not True)\n",
    "        -#----------------------------------------->Output is False\n",
    "        -print(not False)\n",
    "        -#----------------------------------------->Output is True"
   ]
  },
  {
   "cell_type": "code",
   "execution_count": 14,
   "metadata": {},
   "outputs": [
    {
     "name": "stdout",
     "output_type": "stream",
     "text": [
      "True\n",
      "False\n",
      "False\n",
      "False\n",
      "True\n",
      "True\n",
      "True\n",
      "False\n",
      "False\n",
      "True\n"
     ]
    }
   ],
   "source": [
    "print(True and True)\n",
    "\n",
    "print(False and True)\n",
    "\n",
    "print(True and False)\n",
    "\n",
    "print(False and False)\n",
    "\n",
    "print(True or True)\n",
    "\n",
    "print(False or True)\n",
    "\n",
    "print(True or False)\n",
    "\n",
    "print(False or False)\n",
    "\n",
    "print(not True)\n",
    "\n",
    "print(not False)"
   ]
  },
  {
   "cell_type": "markdown",
   "metadata": {},
   "source": [
    "# Q. Bitwise Operators\n",
    "    -Do below operations on the values provided below:-\n",
    "    -Bitwise and(&) --------------> True, True -------> Output is True\n",
    "    -Bitwise or(|) --------------> True, False -------> Output is True\n",
    "    -Bitwise(^) --------------> True, False -------> Output is True\n",
    "    -Bitwise negation(~) ---------> True -------> Output is -2\n",
    "    -Bitwise left shift ---------> True,2 -------> Output is 4\n",
    "    -Bitwise right shift ---------> True,2 -------> Output is 0\n",
    "    -Cross check the output manually"
   ]
  },
  {
   "cell_type": "code",
   "execution_count": 15,
   "metadata": {},
   "outputs": [
    {
     "name": "stdout",
     "output_type": "stream",
     "text": [
      "True\n",
      "True\n",
      "True\n",
      "-2\n",
      "4\n",
      "0\n"
     ]
    }
   ],
   "source": [
    "print(True & True)\n",
    "print(True | False)\n",
    "print(True ^ False)\n",
    "print(~ True)\n",
    "print(True << 2)\n",
    "print(True >> 2)"
   ]
  },
  {
   "cell_type": "markdown",
   "metadata": {},
   "source": [
    "# Q. What is the output of expression inside the print statement. \n",
    "    -Cross check before running the program.\n",
    "    -a = True\n",
    "    -b = True\n",
    "    -print(a is b) #True or False?\n",
    "    -print(a is not b) #True or False?"
   ]
  },
  {
   "cell_type": "code",
   "execution_count": 17,
   "metadata": {},
   "outputs": [
    {
     "name": "stdout",
     "output_type": "stream",
     "text": [
      "True\n",
      "False\n"
     ]
    }
   ],
   "source": [
    "a= True\n",
    "b= True\n",
    "print(a is b) # return True value if both object are identical\n",
    "print(a is not b) # return True value if both object are not identical"
   ]
  },
  {
   "cell_type": "markdown",
   "metadata": {},
   "source": [
    "# Q. What is the output of expression inside the print statement. \n",
    "    -Cross check before running the program.\n",
    "    -a = False\n",
    "    -b = False\n",
    "    -print(a is b) #True or False?\n",
    "    -print(a is not b) #True or False?"
   ]
  },
  {
   "cell_type": "code",
   "execution_count": 1,
   "metadata": {},
   "outputs": [
    {
     "name": "stdout",
     "output_type": "stream",
     "text": [
      "True\n",
      "False\n"
     ]
    }
   ],
   "source": [
    "a= False\n",
    "b= False\n",
    "print(a is b) # return True value if both object are identical\n",
    "print(a is not b) # return True value if both object are not identical "
   ]
  },
  {
   "cell_type": "markdown",
   "metadata": {},
   "source": [
    "# Q. Membership operation\n",
    "    -in, not in are two membership operators and it returns boolean value\n",
    "        -print(True in [10,10.20,10+20j,'Python', True])\n",
    "        -print(False in (10,10.20,10+20j,'Python', False))\n",
    "        -print(True in {1,2,3, True})\n",
    "        -print(True in {True:100, False:200, True:300})\n",
    "        -print(False in {True:100, False:200, True:300})"
   ]
  },
  {
   "cell_type": "code",
   "execution_count": 2,
   "metadata": {},
   "outputs": [
    {
     "name": "stdout",
     "output_type": "stream",
     "text": [
      "True\n",
      "True\n",
      "True\n",
      "True\n",
      "True\n"
     ]
    }
   ],
   "source": [
    "print(True in [10,10.20,10+20j, 'Python', True]) # list\n",
    "print(False in (10,10.20,10+20j,'Python', False)) # tuple\n",
    "print(True in {1,2,3, True}) # set\n",
    "print(True in {True:100, False:200, True:300}) # dictionaries\n",
    "print(False in {True:100, False:200, True:300})  # dictionaries\n",
    "#Returns True if a sequence with the specified value is present in the object"
   ]
  },
  {
   "cell_type": "code",
   "execution_count": null,
   "metadata": {},
   "outputs": [],
   "source": []
  }
 ],
 "metadata": {
  "kernelspec": {
   "display_name": "Python 3",
   "language": "python",
   "name": "python3"
  },
  "language_info": {
   "codemirror_mode": {
    "name": "ipython",
    "version": 3
   },
   "file_extension": ".py",
   "mimetype": "text/x-python",
   "name": "python",
   "nbconvert_exporter": "python",
   "pygments_lexer": "ipython3",
   "version": "3.8.3"
  }
 },
 "nbformat": 4,
 "nbformat_minor": 4
}
